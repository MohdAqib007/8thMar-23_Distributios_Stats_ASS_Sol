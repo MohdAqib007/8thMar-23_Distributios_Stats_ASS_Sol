{
 "cells": [
  {
   "cell_type": "code",
   "execution_count": null,
   "id": "74119f00-2b96-48da-9b0a-cc31e025d75d",
   "metadata": {},
   "outputs": [],
   "source": [
    "#Q1. What is the Probability density function? for a child\n",
    "#Ans-\n",
    "\n",
    "'''The Probability Density Function (PDF) is a fundamental concept in probability theory and statistics. It is a mathematical function that describes the probability distribution of a continuous random variable.\n",
    "\n",
    "The PDF is a function that assigns probabilities to all possible outcomes of a continuous random variable. Unlike a discrete probability distribution, where the probabilities are assigned to discrete values, the PDF assigns probabilities to all values within a range of possible values. \n",
    "The area under the PDF curve over a certain range of values gives the probability of observing a value within that range.\n",
    "\n",
    "Formally, the PDF is defined as the derivative of the cumulative distribution function (CDF) of a random variable. \n",
    "The CDF gives the probability that the value of the random variable is less than or equal to a certain value, while the PDF gives the probability density at each value of the random variable.\n",
    "\n",
    "The PDF is a very important tool in statistics and is used to calculate probabilities, determine expected values, and perform various other statistical analyses.'''"
   ]
  },
  {
   "cell_type": "code",
   "execution_count": null,
   "id": "2d427db3-4ca2-4625-a03a-0b0dbc7b5e66",
   "metadata": {},
   "outputs": [],
   "source": [
    "#Q2. What are the types of Probability distribution?\n",
    "#Ans-\n",
    "'''There are several types of probability distributions, including:\n",
    "\n",
    "1. Normal Distribution: The Normal distribution is a symmetrical probability distribution that is often used to model natural phenomena, such as height or weight of a population. \n",
    "It has a bell-shaped curve with most of the data clustering around the mean, and it is characterized by its mean and standard deviation.\n",
    "\n",
    "2. Binomial Distribution: The Binomial distribution is used when there are only two possible outcomes, such as success or failure, and the probabilities of each outcome are known. \n",
    "It is commonly used in experiments with a fixed number of trials and a known probability of success.\n",
    "\n",
    "3. Poisson Distribution: The Poisson distribution is used to model the number of times an event occurs in a fixed time period or space, given a known average rate of occurrence. \n",
    "It is commonly used in fields such as insurance, telecommunications, and biology.\n",
    "\n",
    "4. Exponential Distribution: The Exponential distribution is used to model the time between two consecutive events in a Poisson process. \n",
    "It is commonly used in reliability engineering and queueing theory.\n",
    "\n",
    "4. Uniform Distribution: The Uniform distribution is used to model a situation where all outcomes in a range are equally likely. It is commonly used in simulation and modeling.\n",
    "\n",
    "5. Gamma Distribution: The Gamma distribution is a family of probability distributions that are often used to model the waiting time until a certain number of events occur. \n",
    "It is commonly used in actuarial science, engineering, and finance.\n",
    "\n",
    "There are many other types of probability distributions, each with its own unique characteristics and applications. \n",
    "The choice of distribution depends on the nature of the data and the purpose of the analysis.'''"
   ]
  },
  {
   "cell_type": "code",
   "execution_count": 1,
   "id": "22cd5f08-edfe-46f1-b575-6b51459ca88b",
   "metadata": {},
   "outputs": [],
   "source": [
    "#Q3. Write a Python function to calculate the probability density function of a normal distribution with given mean and standard deviation at a given point.\n",
    "#Ans-\n",
    "'''Here's a Python function that calculates the probability density function (PDF) of a normal distribution at a given point, given its mean and standard deviation:'''\n",
    "\n",
    "import math\n",
    "\n",
    "def normal_pdf(x, mu, sigma):\n",
    "    \"\"\"\n",
    "    Calculates the probability density function (PDF) of a normal distribution \n",
    "    at a given point x, with given mean mu and standard deviation sigma.\n",
    "    \"\"\"\n",
    "    coefficient = 1 / (sigma * math.sqrt(2 * math.pi))\n",
    "    exponent = -1 * ((x - mu) ** 2) / (2 * (sigma ** 2))\n",
    "    pdf = coefficient * math.exp(exponent)\n",
    "    return pdf\n",
    "\n",
    "#Here, x is the point at which the PDF is to be calculated, mu is the mean of the normal distribution, and sigma is its standard deviation.\n",
    "\n"
   ]
  },
  {
   "cell_type": "code",
   "execution_count": null,
   "id": "4d157721-e5de-41aa-af97-0b7728e46f68",
   "metadata": {},
   "outputs": [],
   "source": [
    "#The function uses the formula for the PDF of a normal distribution, which is:\n",
    "\n",
    "f(x) = (1 / (sigma * sqrt(2*pi))) * exp(-((x-mu)**2) / (2 * sigma**2))\n",
    "\n",
    "#where exp is the exponential function, sqrt is the square root function, and pi is the mathematical constant π.\n",
    "\n"
   ]
  },
  {
   "cell_type": "code",
   "execution_count": null,
   "id": "aa5062be-4dca-47f7-979a-c40d86d47654",
   "metadata": {},
   "outputs": [],
   "source": [
    "#To use the function, simply call it with the desired values of x, mu, and sigma, like this:\n",
    "\n",
    "pdf_value = normal_pdf(x, mu, sigma)\n",
    "\n",
    "#This will calculate the value of the PDF of the normal distribution at the point x, given its mean mu and standard deviation sigma, and store it in the variable pdf_value."
   ]
  },
  {
   "cell_type": "code",
   "execution_count": null,
   "id": "24f9e880-b3ef-4795-8dd6-557267d7e8d6",
   "metadata": {},
   "outputs": [],
   "source": []
  },
  {
   "cell_type": "code",
   "execution_count": null,
   "id": "efa4b29f-400f-4dfa-865d-374f9234c60a",
   "metadata": {},
   "outputs": [],
   "source": [
    "#Q4. What are the properties of Binomial distribution? Give two examples of events where binomial distribution can be applied.\n",
    "#Ans-\n",
    "'''The Binomial distribution has several properties:\n",
    "\n",
    "The Binomial distribution models situations where there are only two possible outcomes, such as success or failure, or heads or tails.\n",
    "\n",
    "The trials are independent, which means that the outcome of one trial does not affect the outcome of the next.\n",
    "\n",
    "The probability of success remains constant across all trials.\n",
    "\n",
    "The number of trials is fixed.\n",
    "\n",
    "The Binomial distribution is discrete, meaning that the possible outcomes are whole numbers.\n",
    "\n",
    "The mean of the distribution is equal to the product of the number of trials and the probability of success, and the variance is equal to the product of the number of trials, the probability of success, and the probability of failure.\n",
    "\n",
    "Two examples of events where the Binomial distribution can be applied are:\n",
    "1. A quality control inspector is checking a batch of 1000 widgets, looking for defective widgets. \n",
    "If the probability of a widget being defective is 0.05, the inspector can use the Binomial distribution to calculate the probability of finding a certain number of defective widgets in the batch.\n",
    "\n",
    "2. A pharmaceutical company is conducting a clinical trial of a new drug on 500 patients. \n",
    "If the probability of a patient experiencing a certain side effect is 0.1, the company can use the Binomial distribution to calculate the probability of a certain number of patients experiencing the side effect during the trial.\n",
    "\n",
    "In both of these examples, there are a fixed number of trials with only two possible outcomes, and the probability of success remains constant across all trials. \n",
    "The Binomial distribution is therefore an appropriate model for analyzing the data and making predictions about the outcomes.'''"
   ]
  },
  {
   "cell_type": "code",
   "execution_count": 2,
   "id": "9a39ed49-e613-409f-a113-45cafb407942",
   "metadata": {},
   "outputs": [
    {
     "data": {
      "image/png": "[encoded data removed]",
      "text/plain": [
       "<Figure size 640x480 with 1 Axes>"
      ]
     },
     "metadata": {},
     "output_type": "display_data"
    }
   ],
   "source": [
    "#Q5. Generate a random sample of size 1000 from a binomial distribution with probability of success 0.4 and plot a histogram of the results using matplotlib.\n",
    "#Ans-\n",
    "''''''\n",
    "\n",
    "import numpy as np\n",
    "import matplotlib.pyplot as plt\n",
    "\n",
    "# Set the parameters\n",
    "n = 1000    # number of trials\n",
    "p = 0.4     # probability of success\n",
    "\n",
    "# Generate the random sample\n",
    "sample = np.random.binomial(n, p, size=1000)\n",
    "\n",
    "# Plot the histogram\n",
    "plt.hist(sample, bins=30, alpha=0.5, color='blue')\n",
    "plt.title(\"Binomial Distribution with n=1000, p=0.4\")\n",
    "plt.xlabel(\"Number of successes\")\n",
    "plt.ylabel(\"Frequency\")\n",
    "plt.show()\n"
   ]
  },
  {
   "cell_type": "code",
   "execution_count": 3,
   "id": "9161775f-9226-402f-8e48-fed9ce3c7e11",
   "metadata": {},
   "outputs": [],
   "source": [
    "#Q6. Write a Python function to calculate the cumulative distribution function of a Poisson distribution with given mean at a given point.\n",
    "#Ans-\n",
    "''' Here's a Python function that calculates the cumulative distribution function (CDF) of a Poisson distribution with a given mean mu at a given point k:'''\n",
    "\n",
    "import math\n",
    "\n",
    "def poisson_cdf(mu, k):\n",
    "    \"\"\"\n",
    "    Calculates the cumulative distribution function (CDF) of a Poisson distribution\n",
    "    with mean 'mu' at the point 'k'.\n",
    "    \"\"\"\n",
    "    cdf = 0.0\n",
    "    for i in range(k+1):\n",
    "        cdf += math.exp(-mu) * (mu**i) / math.factorial(i)\n",
    "    return cdf\n",
    "#In this function, we first initialize a variable cdf to 0.0, which will store the cumulative distribution up to the point k. We then use a loop to iterate over all the possible values of i from 0 to k, and add the probability of each value to cdf.\n",
    "\n"
   ]
  },
  {
   "cell_type": "code",
   "execution_count": 11,
   "id": "96242972-abc1-4f3c-8fa4-2742808a2b67",
   "metadata": {},
   "outputs": [
    {
     "data": {
      "text/plain": [
       "'The probability of a Poisson distribution with mean mu taking the value i is given by the formula:\\n\\nP(X = i) = e^(-mu) * (mu^i) / i!\\n\\n#where X is a random variable with a Poisson distribution. Therefore, we use this formula inside the loop to calculate the probability of each value of i, and add it to cdf.'"
      ]
     },
     "execution_count": 11,
     "metadata": {},
     "output_type": "execute_result"
    }
   ],
   "source": [
    "'''The probability of a Poisson distribution with mean mu taking the value i is given by the formula:\n",
    "\n",
    "P(X = i) = e^(-mu) * (mu^i) / i!\n",
    "\n",
    "#where X is a random variable with a Poisson distribution. Therefore, we use this formula inside the loop to calculate the probability of each value of i, and add it to cdf.'''\n"
   ]
  },
  {
   "cell_type": "code",
   "execution_count": 6,
   "id": "28d2b1ba-9b86-4626-a02b-e2de8b59bdc5",
   "metadata": {},
   "outputs": [
    {
     "name": "stdout",
     "output_type": "stream",
     "text": [
      "The cumulative distribution function of a Poisson distribution with mean 2.5 at the point 3 is: 0.7575761331330659\n"
     ]
    }
   ],
   "source": [
    "'''Finally, we return the value of cdf, which represents the cumulative probability up to the point k.\n",
    "\n",
    "You can use this function to calculate the CDF of a Poisson distribution with a given mean mu at a point k, like this:'''\n",
    "\n",
    "mu = 2.5\n",
    "k = 3\n",
    "cdf = poisson_cdf(mu, k)\n",
    "print(\"The cumulative distribution function of a Poisson distribution with mean\", mu, \"at the point\", k, \"is:\", cdf)\n"
   ]
  },
  {
   "cell_type": "code",
   "execution_count": null,
   "id": "67a2f44d-3e8c-4b37-84ce-e5090947794e",
   "metadata": {},
   "outputs": [],
   "source": [
    "#This means that the probability of a Poisson distribution with mean mu=2.5 being less than or equal to k=3 is approximately 0.8488."
   ]
  },
  {
   "cell_type": "code",
   "execution_count": null,
   "id": "d186ffc0-3094-480d-a8d8-a55e41128b7c",
   "metadata": {},
   "outputs": [],
   "source": []
  },
  {
   "cell_type": "code",
   "execution_count": null,
   "id": "8678d0ee-5f3f-4eea-93a2-d76298e1ac90",
   "metadata": {},
   "outputs": [],
   "source": []
  },
  {
   "cell_type": "code",
   "execution_count": null,
   "id": "820bcaa0-a6b3-4764-a126-a6d1cfce071e",
   "metadata": {},
   "outputs": [],
   "source": [
    "#Q7. How Binomial distribution different from Poisson distribution?\n",
    "#Ans-\n",
    "'''The main difference between Binomial and Poisson distributions lies in the nature of the events they model.\n",
    "\n",
    "Binomial distribution models the number of successes in a fixed number of independent trials, where each trial can only result in one of two possible outcomes (e.g., success or failure, heads or tails). \n",
    "The trials are assumed to be independent, and the probability of success in each trial is assumed to be constant. \n",
    "The parameters of the Binomial distribution are the number of trials n and the probability of success p.\n",
    "\n",
    "Poisson distribution, on the other hand, models the number of events that occur in a fixed interval of time or space, where the events occur randomly and independently of each other, and the average rate of occurrence is constant. \n",
    "The parameter of the Poisson distribution is the average rate of occurrence λ.\n",
    "\n",
    "In other words, the Binomial distribution is used when the number of trials is fixed and the probability of success is constant, while the Poisson distribution is used when the rate of occurrence is fixed and the number of events is variable.\n",
    "\n",
    "Here are some key differences between Binomial and Poisson distributions:\n",
    "\n",
    "1. The Binomial distribution models discrete variables (e.g., number of successes) that take on integer values, while the Poisson distribution models continuous variables (e.g., rate of occurrence) that can take on any non-negative value.\n",
    "2. The Binomial distribution has two parameters (n and p), while the Poisson distribution has one parameter (λ).\n",
    "3. The Binomial distribution is used to model the number of successes in a fixed number of trials, while the Poisson distribution is used to model the number of events in a fixed interval of time or space.\n",
    "4. The Binomial distribution has a finite range of possible values (0 to n), while the Poisson distribution has an infinite range of possible values (0 to infinity).\n",
    "\n",
    "In practice, the choice between Binomial and Poisson distributions depends on the nature of the events being modeled and the assumptions that are appropriate for the situation. \n",
    "If the number of trials is large and the probability of success is small, the Binomial distribution can be approximated by the Poisson distribution with the parameter λ = np, where n is the number of trials and p is the probability of success.'''"
   ]
  },
  {
   "cell_type": "code",
   "execution_count": 12,
   "id": "d51f668c-6da8-4c98-9452-9320c8785de8",
   "metadata": {},
   "outputs": [
    {
     "name": "stdout",
     "output_type": "stream",
     "text": [
      "Sample mean: 4.985\n",
      "Sample variance: 4.9967749999999995\n"
     ]
    }
   ],
   "source": [
    "#Q8. Generate a random sample of size 1000 from a Poisson distribution with mean 5 and calculate the sample mean and variance.\n",
    "#Ans-\n",
    "''''''\n",
    "\n",
    "import numpy as np\n",
    "\n",
    "# Set the random seed for reproducibility\n",
    "np.random.seed(42)\n",
    "\n",
    "# Generate a random sample of size 1000 from a Poisson distribution with mean 5\n",
    "sample = np.random.poisson(5, size=1000)\n",
    "\n",
    "# Calculate the sample mean and variance\n",
    "sample_mean = np.mean(sample)\n",
    "sample_var = np.var(sample)\n",
    "\n",
    "# Print the sample mean and variance\n",
    "print(\"Sample mean:\", sample_mean)\n",
    "print(\"Sample variance:\", sample_var)\n"
   ]
  },
  {
   "cell_type": "code",
   "execution_count": null,
   "id": "f2ac54e9-ca44-4956-910a-72010fbe365d",
   "metadata": {},
   "outputs": [],
   "source": [
    "#Q9. How mean and variance are related in Binomial distribution and Poisson distribution?\n",
    "#Ans-\n",
    "'''In the Binomial distribution, the mean μ and variance σ^2 are related by the following equation:\n",
    "\n",
    "μ = np\n",
    "σ^2 = np(1-p)\n",
    "\n",
    "where n is the number of trials, and p is the probability of success in each trial.\n",
    "\n",
    "In the Poisson distribution, the mean λ and variance σ^2 are equal:\n",
    "\n",
    "μ = λ\n",
    "σ^2 = λ\n",
    "\n",
    "where λ is the average rate of occurrence.\n",
    "\n",
    "The relationship between the mean and variance in the Binomial distribution and Poisson distribution is different. \n",
    "In the Binomial distribution, the variance depends on both the number of trials and the probability of success, while in the Poisson distribution, the variance depends only on the average rate of occurrence.\n",
    "\n",
    "However, as the number of trials n in the Binomial distribution gets large, and the probability of success p gets small in such a way that the product np is fixed, the Binomial distribution can be approximated by the Poisson distribution with the parameter λ = np. \n",
    "In this case, the mean and variance of the Binomial distribution both approach λ, the mean of the Poisson distribution.'''"
   ]
  },
  {
   "cell_type": "code",
   "execution_count": null,
   "id": "45359b1d-0f67-4e5c-ae75-e407473be8c0",
   "metadata": {},
   "outputs": [],
   "source": [
    "#Q10. In normal distribution with respect to mean position, where does the least frequent data appear?\n",
    "#Ans-\n",
    "'''In a normal distribution, the least frequent data appears in the tails of the distribution, which are the regions that are far away from the mean. \n",
    "Specifically, data that are more than 2 standard deviations away from the mean in either direction are considered to be in the tails of the distribution.\n",
    "\n",
    "The probability density function of the normal distribution is symmetric about the mean, so the least frequent data appears at the same distance from the mean on both sides of the distribution. \n",
    "The exact position of the least frequent data depends on the mean and standard deviation of the distribution.'''"
   ]
  },
  {
   "cell_type": "code",
   "execution_count": null,
   "id": "1b0a873d-43c0-4c75-aba8-02f8aa764f09",
   "metadata": {},
   "outputs": [],
   "source": []
  }
 ],
 "metadata": {
  "kernelspec": {
   "display_name": "Python 3 (ipykernel)",
   "language": "python",
   "name": "python3"
  },
  "language_info": {
   "codemirror_mode": {
    "name": "ipython",
    "version": 3
   },
   "file_extension": ".py",
   "mimetype": "text/x-python",
   "name": "python",
   "nbconvert_exporter": "python",
   "pygments_lexer": "ipython3",
   "version": "3.10.8"
  }
 },
 "nbformat": 4,
 "nbformat_minor": 5
}
